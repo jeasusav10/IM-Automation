{
 "cells": [
  {
   "cell_type": "markdown",
   "metadata": {},
   "source": [
    "# The X-files problem"
   ]
  },
  {
   "cell_type": "markdown",
   "metadata": {},
   "source": [
    "This problem is for you to show your modeling abilities."
   ]
  },
  {
   "cell_type": "markdown",
   "metadata": {},
   "source": [
    "## Context"
   ]
  },
  {
   "cell_type": "markdown",
   "metadata": {},
   "source": [
    "The limousine comes to a full stop. As the driver gets out to open the door you take a deep breath and get inside. You enter 10 Downing Street and are conducted to the usual meeting room. Inside you find the Prime Minister, accompanied by a fat, tall man and a short, deform one with long ears and an even longer nose.\n",
    "\n",
    ">  <font color= #2B65EC> **Prime Minister**: Ah! You’re here! Great! Let me introduce my guests. This is Fidelious, Minister of Magic, and Krenk, the owner of the Gringotts Wizarding Bank. <br> </font>\n",
    "> <font color= green> **You**: Uhhh, ma’am, is this a joke?  <br> </font>\n",
    "> <font color= gray>  **Fidelious**: Not at all, but don’t worry, don’t sweat the details, tomorrow you won’t remember anything. Security measures, you see. <br> </font>\n",
    "> <font color= orange> **Krenk**: Let’s move things along. I don’t like to be exposed to Muggles.<br> </font>\n",
    "> <font color= green> **You**: What... <br> </font>\n",
    ">  <font color= #2B65EC> **Prime Minister**: Our friends here seem to have run into a bit of an issue, see, some diamonds seem to have been stolen. Problem is, the only person... goblin, to have seen them is our distinguished guest, Krenk. <br> </font>\n",
    "> <font color= gray>  **Fidelious**: And while the Ministry completely believes Krenk as to the diamonds’ worth, we need another person to validate his claim. Safety policies, you see. <br> </font>\n",
    ">  <font color= #2B65EC> **Prime Minister**: So, since you’re the best data scientist in our country, I thought you could help. Mr. Krenk will provide you with the characteristics of the missing diamonds and we need you to create a model to value them. <br> </font>\n",
    "> <font color= green> **You**: But I’m not a lapidarist.<br> </font>\n",
    ">  <font color= #2B65EC> **Prime Minister**: Which is why we’re providing you with a huge dataset, containing characteristics and valuations for tens of thousands of diamonds. Now, get working. <br> </font>\n",
    "\n",
    "Huge? Tens of thousands? You think. And I thought I was the clueless one here."
   ]
  },
  {
   "cell_type": "markdown",
   "metadata": {},
   "source": [
    "## Data\n",
    "\n",
    "The file that contains the information can be download from: [Diamonds Dataset](https://github.com/jeasusav10/IM-Automation/blob/main/Lapidarist%20Problem/diamonds_data.csv)"
   ]
  },
  {
   "cell_type": "markdown",
   "metadata": {},
   "source": [
    "## Code\n",
    "\n",
    "In general terms, the goal was to <font color= red> **create a prediction model** </font>\n",
    "\n",
    "The code will use **Tensorflow** for creating the model, **Pandas** for data maniupulation and anlaysis, and **Matplotlib/Seaborn** for data visualization."
   ]
  },
  {
   "cell_type": "markdown",
   "metadata": {},
   "source": [
    "### Import Data\n",
    "\n",
    "The first was importing the data and libraries required."
   ]
  },
  {
   "cell_type": "code",
   "execution_count": 1,
   "metadata": {},
   "outputs": [],
   "source": [
    "#Install tensorflow - uncomment if required\n",
    "#!pip install tensorflow "
   ]
  },
  {
   "cell_type": "code",
   "execution_count": 2,
   "metadata": {},
   "outputs": [],
   "source": [
    "#Import libraries\n",
    "import matplotlib.pyplot as plt\n",
    "import numpy as np\n",
    "import pandas as pd\n",
    "import seaborn as sns\n",
    "import tensorflow as tf\n",
    "from tensorflow import keras\n",
    "from tensorflow.keras import layers\n",
    "from tensorflow.keras.layers.experimental import preprocessing"
   ]
  },
  {
   "cell_type": "code",
   "execution_count": 3,
   "metadata": {},
   "outputs": [],
   "source": [
    "#Import data\n",
    "path = 'diamonds_data.csv'\n",
    "df = pd.read_csv(path)"
   ]
  },
  {
   "cell_type": "code",
   "execution_count": 4,
   "metadata": {},
   "outputs": [
    {
     "data": {
      "text/html": [
       "<div>\n",
       "<style scoped>\n",
       "    .dataframe tbody tr th:only-of-type {\n",
       "        vertical-align: middle;\n",
       "    }\n",
       "\n",
       "    .dataframe tbody tr th {\n",
       "        vertical-align: top;\n",
       "    }\n",
       "\n",
       "    .dataframe thead th {\n",
       "        text-align: right;\n",
       "    }\n",
       "</style>\n",
       "<table border=\"1\" class=\"dataframe\">\n",
       "  <thead>\n",
       "    <tr style=\"text-align: right;\">\n",
       "      <th></th>\n",
       "      <th>carat</th>\n",
       "      <th>cut</th>\n",
       "      <th>color</th>\n",
       "      <th>clarity</th>\n",
       "      <th>depth</th>\n",
       "      <th>table</th>\n",
       "      <th>price</th>\n",
       "      <th>x</th>\n",
       "      <th>y</th>\n",
       "      <th>z</th>\n",
       "    </tr>\n",
       "  </thead>\n",
       "  <tbody>\n",
       "    <tr>\n",
       "      <th>53925</th>\n",
       "      <td>0.72</td>\n",
       "      <td>Ideal</td>\n",
       "      <td>D</td>\n",
       "      <td>SI1</td>\n",
       "      <td>60.8</td>\n",
       "      <td>57.0</td>\n",
       "      <td>2757</td>\n",
       "      <td>5.75</td>\n",
       "      <td>5.76</td>\n",
       "      <td>3.50</td>\n",
       "    </tr>\n",
       "    <tr>\n",
       "      <th>53926</th>\n",
       "      <td>0.72</td>\n",
       "      <td>Good</td>\n",
       "      <td>D</td>\n",
       "      <td>SI1</td>\n",
       "      <td>63.1</td>\n",
       "      <td>55.0</td>\n",
       "      <td>2757</td>\n",
       "      <td>5.69</td>\n",
       "      <td>5.75</td>\n",
       "      <td>3.61</td>\n",
       "    </tr>\n",
       "    <tr>\n",
       "      <th>53927</th>\n",
       "      <td>0.70</td>\n",
       "      <td>Very Good</td>\n",
       "      <td>D</td>\n",
       "      <td>SI1</td>\n",
       "      <td>62.8</td>\n",
       "      <td>60.0</td>\n",
       "      <td>2757</td>\n",
       "      <td>5.66</td>\n",
       "      <td>5.68</td>\n",
       "      <td>3.56</td>\n",
       "    </tr>\n",
       "    <tr>\n",
       "      <th>53928</th>\n",
       "      <td>0.86</td>\n",
       "      <td>Premium</td>\n",
       "      <td>H</td>\n",
       "      <td>SI2</td>\n",
       "      <td>61.0</td>\n",
       "      <td>58.0</td>\n",
       "      <td>2757</td>\n",
       "      <td>6.15</td>\n",
       "      <td>6.12</td>\n",
       "      <td>3.74</td>\n",
       "    </tr>\n",
       "    <tr>\n",
       "      <th>53929</th>\n",
       "      <td>0.75</td>\n",
       "      <td>Ideal</td>\n",
       "      <td>D</td>\n",
       "      <td>SI2</td>\n",
       "      <td>62.2</td>\n",
       "      <td>55.0</td>\n",
       "      <td>2757</td>\n",
       "      <td>5.83</td>\n",
       "      <td>5.87</td>\n",
       "      <td>3.64</td>\n",
       "    </tr>\n",
       "  </tbody>\n",
       "</table>\n",
       "</div>"
      ],
      "text/plain": [
       "       carat        cut color clarity  depth  table  price     x     y     z\n",
       "53925   0.72      Ideal     D     SI1   60.8   57.0   2757  5.75  5.76  3.50\n",
       "53926   0.72       Good     D     SI1   63.1   55.0   2757  5.69  5.75  3.61\n",
       "53927   0.70  Very Good     D     SI1   62.8   60.0   2757  5.66  5.68  3.56\n",
       "53928   0.86    Premium     H     SI2   61.0   58.0   2757  6.15  6.12  3.74\n",
       "53929   0.75      Ideal     D     SI2   62.2   55.0   2757  5.83  5.87  3.64"
      ]
     },
     "execution_count": 4,
     "metadata": {},
     "output_type": "execute_result"
    }
   ],
   "source": [
    "#Last five rows\n",
    "df.tail()"
   ]
  },
  {
   "cell_type": "markdown",
   "metadata": {},
   "source": [
    "### Data Overview\n",
    "\n",
    "It was nescesary to revise which parameters have *Null/NaN values*, in order to replace the *damaged* entries."
   ]
  },
  {
   "cell_type": "code",
   "execution_count": 5,
   "metadata": {},
   "outputs": [
    {
     "name": "stdout",
     "output_type": "stream",
     "text": [
      "<class 'pandas.core.frame.DataFrame'>\n",
      "RangeIndex: 53930 entries, 0 to 53929\n",
      "Data columns (total 10 columns):\n",
      " #   Column   Non-Null Count  Dtype  \n",
      "---  ------   --------------  -----  \n",
      " 0   carat    53930 non-null  float64\n",
      " 1   cut      53930 non-null  object \n",
      " 2   color    53930 non-null  object \n",
      " 3   clarity  53930 non-null  object \n",
      " 4   depth    53930 non-null  float64\n",
      " 5   table    53930 non-null  float64\n",
      " 6   price    53930 non-null  int64  \n",
      " 7   x        53930 non-null  float64\n",
      " 8   y        53930 non-null  float64\n",
      " 9   z        53930 non-null  float64\n",
      "dtypes: float64(6), int64(1), object(3)\n",
      "memory usage: 4.1+ MB\n"
     ]
    }
   ],
   "source": [
    "#General information of the parameters\n",
    "df.info()"
   ]
  },
  {
   "cell_type": "markdown",
   "metadata": {},
   "source": [
    "In this case, the dataset did not contain null values.\n",
    "\n",
    "However, the algorithms for **prediction models** require numeric data. In the dataset, there were three non-numeric parameters (**cut, color, clarity**). \n",
    "\n",
    "So, the first step was to cast these parameters using *dummies*."
   ]
  },
  {
   "cell_type": "code",
   "execution_count": 6,
   "metadata": {},
   "outputs": [
    {
     "name": "stdout",
     "output_type": "stream",
     "text": [
      "<class 'pandas.core.frame.DataFrame'>\n",
      "RangeIndex: 53930 entries, 0 to 53929\n",
      "Data columns (total 27 columns):\n",
      " #   Column     Non-Null Count  Dtype  \n",
      "---  ------     --------------  -----  \n",
      " 0   carat      53930 non-null  float64\n",
      " 1   depth      53930 non-null  float64\n",
      " 2   table      53930 non-null  float64\n",
      " 3   price      53930 non-null  int64  \n",
      " 4   x          53930 non-null  float64\n",
      " 5   y          53930 non-null  float64\n",
      " 6   z          53930 non-null  float64\n",
      " 7   Fair       53930 non-null  uint8  \n",
      " 8   Good       53930 non-null  uint8  \n",
      " 9   Ideal      53930 non-null  uint8  \n",
      " 10  Premium    53930 non-null  uint8  \n",
      " 11  Very Good  53930 non-null  uint8  \n",
      " 12  D          53930 non-null  uint8  \n",
      " 13  E          53930 non-null  uint8  \n",
      " 14  F          53930 non-null  uint8  \n",
      " 15  G          53930 non-null  uint8  \n",
      " 16  H          53930 non-null  uint8  \n",
      " 17  I          53930 non-null  uint8  \n",
      " 18  J          53930 non-null  uint8  \n",
      " 19  I1         53930 non-null  uint8  \n",
      " 20  IF         53930 non-null  uint8  \n",
      " 21  SI1        53930 non-null  uint8  \n",
      " 22  SI2        53930 non-null  uint8  \n",
      " 23  VS1        53930 non-null  uint8  \n",
      " 24  VS2        53930 non-null  uint8  \n",
      " 25  VVS1       53930 non-null  uint8  \n",
      " 26  VVS2       53930 non-null  uint8  \n",
      "dtypes: float64(6), int64(1), uint8(20)\n",
      "memory usage: 3.9 MB\n"
     ]
    }
   ],
   "source": [
    "#Generate dummies\n",
    "df = pd.get_dummies(df, prefix='', prefix_sep='')\n",
    "df.info()"
   ]
  },
  {
   "cell_type": "markdown",
   "metadata": {},
   "source": [
    "### Trainset & Testset\n",
    "\n",
    "The next step was to split the data in train and test set. The dataset is quite big (**>50,000 entries**), so the rule 80/20 is not really nescesary. In cases like this, it is recommended to use more data for training, therefore, **the chosen partition were 90-10** for trainset and testset, respectively."
   ]
  },
  {
   "cell_type": "code",
   "execution_count": 8,
   "metadata": {},
   "outputs": [],
   "source": [
    "#Split in train/test sets\n",
    "trainset = df.sample(frac=0.9, random_state=0)\n",
    "testset = df.drop(df_train.index)"
   ]
  },
  {
   "cell_type": "markdown",
   "metadata": {},
   "source": [
    "### Features & Labels\n",
    "\n",
    "Also, it was necessary to define our ouput: **price** \n",
    "\n",
    "It is important to remeber:\n",
    "- Features = Inputs\n",
    "- Labels = Outputs"
   ]
  },
  {
   "cell_type": "code",
   "execution_count": 9,
   "metadata": {},
   "outputs": [],
   "source": [
    "#Define labels and features for both sets\n",
    "train_features = trainset.copy()\n",
    "test_features = testset.copy()\n",
    "\n",
    "train_labels = train_features.pop('price')\n",
    "test_labels = test_features.pop('price')"
   ]
  },
  {
   "cell_type": "markdown",
   "metadata": {},
   "source": [
    "### Normalization\n",
    "\n",
    "Normalization was required because parameters the difference in ranges was noticeable (this could cause a problem on the algorithm because it could ponderate some parameters with more weight).\n",
    "\n",
    "For example, **depht** include two decimals, meanwhile **carat** is in the mean is below 1."
   ]
  },
  {
   "cell_type": "code",
   "execution_count": 12,
   "metadata": {},
   "outputs": [
    {
     "data": {
      "text/html": [
       "<div>\n",
       "<style scoped>\n",
       "    .dataframe tbody tr th:only-of-type {\n",
       "        vertical-align: middle;\n",
       "    }\n",
       "\n",
       "    .dataframe tbody tr th {\n",
       "        vertical-align: top;\n",
       "    }\n",
       "\n",
       "    .dataframe thead th {\n",
       "        text-align: right;\n",
       "    }\n",
       "</style>\n",
       "<table border=\"1\" class=\"dataframe\">\n",
       "  <thead>\n",
       "    <tr style=\"text-align: right;\">\n",
       "      <th></th>\n",
       "      <th>mean</th>\n",
       "      <th>std</th>\n",
       "    </tr>\n",
       "  </thead>\n",
       "  <tbody>\n",
       "    <tr>\n",
       "      <th>carat</th>\n",
       "      <td>0.797333</td>\n",
       "      <td>0.474182</td>\n",
       "    </tr>\n",
       "    <tr>\n",
       "      <th>depth</th>\n",
       "      <td>61.749031</td>\n",
       "      <td>1.433777</td>\n",
       "    </tr>\n",
       "    <tr>\n",
       "      <th>table</th>\n",
       "      <td>57.457851</td>\n",
       "      <td>2.236612</td>\n",
       "    </tr>\n",
       "    <tr>\n",
       "      <th>x</th>\n",
       "      <td>5.729558</td>\n",
       "      <td>1.121658</td>\n",
       "    </tr>\n",
       "    <tr>\n",
       "      <th>y</th>\n",
       "      <td>5.732860</td>\n",
       "      <td>1.139139</td>\n",
       "    </tr>\n",
       "    <tr>\n",
       "      <th>z</th>\n",
       "      <td>3.537737</td>\n",
       "      <td>0.706939</td>\n",
       "    </tr>\n",
       "    <tr>\n",
       "      <th>Fair</th>\n",
       "      <td>0.030224</td>\n",
       "      <td>0.171206</td>\n",
       "    </tr>\n",
       "    <tr>\n",
       "      <th>Good</th>\n",
       "      <td>0.090941</td>\n",
       "      <td>0.287528</td>\n",
       "    </tr>\n",
       "    <tr>\n",
       "      <th>Ideal</th>\n",
       "      <td>0.400416</td>\n",
       "      <td>0.489988</td>\n",
       "    </tr>\n",
       "    <tr>\n",
       "      <th>Premium</th>\n",
       "      <td>0.254692</td>\n",
       "      <td>0.435693</td>\n",
       "    </tr>\n",
       "    <tr>\n",
       "      <th>Very Good</th>\n",
       "      <td>0.223726</td>\n",
       "      <td>0.416745</td>\n",
       "    </tr>\n",
       "    <tr>\n",
       "      <th>D</th>\n",
       "      <td>0.126213</td>\n",
       "      <td>0.332093</td>\n",
       "    </tr>\n",
       "    <tr>\n",
       "      <th>E</th>\n",
       "      <td>0.181243</td>\n",
       "      <td>0.385223</td>\n",
       "    </tr>\n",
       "    <tr>\n",
       "      <th>F</th>\n",
       "      <td>0.176587</td>\n",
       "      <td>0.381323</td>\n",
       "    </tr>\n",
       "    <tr>\n",
       "      <th>G</th>\n",
       "      <td>0.209098</td>\n",
       "      <td>0.406669</td>\n",
       "    </tr>\n",
       "    <tr>\n",
       "      <th>H</th>\n",
       "      <td>0.154398</td>\n",
       "      <td>0.361333</td>\n",
       "    </tr>\n",
       "    <tr>\n",
       "      <th>I</th>\n",
       "      <td>0.100480</td>\n",
       "      <td>0.300642</td>\n",
       "    </tr>\n",
       "    <tr>\n",
       "      <th>J</th>\n",
       "      <td>0.051981</td>\n",
       "      <td>0.221991</td>\n",
       "    </tr>\n",
       "    <tr>\n",
       "      <th>I1</th>\n",
       "      <td>0.013948</td>\n",
       "      <td>0.117277</td>\n",
       "    </tr>\n",
       "    <tr>\n",
       "      <th>IF</th>\n",
       "      <td>0.033500</td>\n",
       "      <td>0.179941</td>\n",
       "    </tr>\n",
       "    <tr>\n",
       "      <th>SI1</th>\n",
       "      <td>0.242248</td>\n",
       "      <td>0.428448</td>\n",
       "    </tr>\n",
       "    <tr>\n",
       "      <th>SI2</th>\n",
       "      <td>0.170200</td>\n",
       "      <td>0.375812</td>\n",
       "    </tr>\n",
       "    <tr>\n",
       "      <th>VS1</th>\n",
       "      <td>0.150401</td>\n",
       "      <td>0.357467</td>\n",
       "    </tr>\n",
       "    <tr>\n",
       "      <th>VS2</th>\n",
       "      <td>0.227229</td>\n",
       "      <td>0.419046</td>\n",
       "    </tr>\n",
       "    <tr>\n",
       "      <th>VVS1</th>\n",
       "      <td>0.067989</td>\n",
       "      <td>0.251730</td>\n",
       "    </tr>\n",
       "    <tr>\n",
       "      <th>VVS2</th>\n",
       "      <td>0.094485</td>\n",
       "      <td>0.292505</td>\n",
       "    </tr>\n",
       "  </tbody>\n",
       "</table>\n",
       "</div>"
      ],
      "text/plain": [
       "                mean       std\n",
       "carat       0.797333  0.474182\n",
       "depth      61.749031  1.433777\n",
       "table      57.457851  2.236612\n",
       "x           5.729558  1.121658\n",
       "y           5.732860  1.139139\n",
       "z           3.537737  0.706939\n",
       "Fair        0.030224  0.171206\n",
       "Good        0.090941  0.287528\n",
       "Ideal       0.400416  0.489988\n",
       "Premium     0.254692  0.435693\n",
       "Very Good   0.223726  0.416745\n",
       "D           0.126213  0.332093\n",
       "E           0.181243  0.385223\n",
       "F           0.176587  0.381323\n",
       "G           0.209098  0.406669\n",
       "H           0.154398  0.361333\n",
       "I           0.100480  0.300642\n",
       "J           0.051981  0.221991\n",
       "I1          0.013948  0.117277\n",
       "IF          0.033500  0.179941\n",
       "SI1         0.242248  0.428448\n",
       "SI2         0.170200  0.375812\n",
       "VS1         0.150401  0.357467\n",
       "VS2         0.227229  0.419046\n",
       "VVS1        0.067989  0.251730\n",
       "VVS2        0.094485  0.292505"
      ]
     },
     "execution_count": 12,
     "metadata": {},
     "output_type": "execute_result"
    }
   ],
   "source": [
    "#Verify if normalization required\n",
    "train_features.describe().transpose()[['mean', 'std']]"
   ]
  },
  {
   "cell_type": "code",
   "execution_count": 18,
   "metadata": {},
   "outputs": [],
   "source": [
    "#Normalization (layer)\n",
    "normalizer = preprocessing.Normalization()\n",
    "normalizer.adapt(np.array(train_features))"
   ]
  },
  {
   "cell_type": "code",
   "execution_count": 19,
   "metadata": {},
   "outputs": [
    {
     "data": {
      "text/plain": [
       "array([7.9733318e-01, 6.1749031e+01, 5.7457851e+01, 5.7295585e+00,\n",
       "       5.7328601e+00, 3.5377374e+00, 3.0224364e-02, 9.0940930e-02,\n",
       "       4.0041617e-01, 2.5469229e-01, 2.2372623e-01, 1.2621300e-01,\n",
       "       1.8124318e-01, 1.7658694e-01, 2.0909822e-01, 1.5439768e-01,\n",
       "       1.0048005e-01, 5.1980961e-02, 1.3948122e-02, 3.3500217e-02,\n",
       "       2.4224818e-01, 1.7020005e-01, 1.5040073e-01, 2.2722872e-01,\n",
       "       6.7989372e-02, 9.4484620e-02], dtype=float32)"
      ]
     },
     "execution_count": 19,
     "metadata": {},
     "output_type": "execute_result"
    }
   ],
   "source": [
    "#Calculate mean and std, and store them in the normalization layer\n",
    "normalizer.mean.numpy()"
   ]
  },
  {
   "cell_type": "markdown",
   "metadata": {},
   "source": [
    "When the layer is called it returns the input data, with each feature independently normalized."
   ]
  },
  {
   "cell_type": "markdown",
   "metadata": {},
   "source": [
    "### Model (DNN)\n",
    "\n",
    "The idea was to generate a Deep Neural Network with a multivariate linear regreession as output layer.\n",
    "This means that the goal is to predict an output \n",
    "\n",
    "In order to understant the procedure, the next code lines shows the representation for:\n",
    "- Linear Regression: One variable\n",
    "- Linear Regression: Multiple variables "
   ]
  },
  {
   "cell_type": "code",
   "execution_count": null,
   "metadata": {},
   "outputs": [],
   "source": []
  }
 ],
 "metadata": {
  "kernelspec": {
   "display_name": "Python 3",
   "language": "python",
   "name": "python3"
  },
  "language_info": {
   "codemirror_mode": {
    "name": "ipython",
    "version": 3
   },
   "file_extension": ".py",
   "mimetype": "text/x-python",
   "name": "python",
   "nbconvert_exporter": "python",
   "pygments_lexer": "ipython3",
   "version": "3.8.3"
  }
 },
 "nbformat": 4,
 "nbformat_minor": 4
}
