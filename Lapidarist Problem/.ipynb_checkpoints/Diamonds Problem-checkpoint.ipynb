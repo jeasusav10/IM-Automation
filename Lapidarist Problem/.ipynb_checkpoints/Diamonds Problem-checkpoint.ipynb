{
 "cells": [
  {
   "cell_type": "markdown",
   "metadata": {},
   "source": [
    "# The X-files problem"
   ]
  },
  {
   "cell_type": "markdown",
   "metadata": {},
   "source": [
    "This problem is for you to show your modeling abilities."
   ]
  },
  {
   "cell_type": "markdown",
   "metadata": {},
   "source": [
    "## Context"
   ]
  },
  {
   "cell_type": "markdown",
   "metadata": {},
   "source": [
    "The limousine comes to a full stop. As the driver gets out to open the door you take a deep breath and get inside. You enter 10 Downing Street and are conducted to the usual meeting room. Inside you find the Prime Minister, accompanied by a fat, tall man and a short, deform one with long ears and an even longer nose.\n",
    "\n",
    ">  <font color= #2B65EC> **Prime Minister**: Ah! You’re here! Great! Let me introduce my guests. This is Fidelious, Minister of Magic, and Krenk, the owner of the Gringotts Wizarding Bank. <br> </font>\n",
    "> <font color= green> **You**: Uhhh, ma’am, is this a joke?  <br> </font>\n",
    "> <font color= gray>  **Fidelious**: Not at all, but don’t worry, don’t sweat the details, tomorrow you won’t remember anything. Security measures, you see. <br> </font>\n",
    "> <font color= orange> **Krenk**: Let’s move things along. I don’t like to be exposed to Muggles.<br> </font>\n",
    "> <font color= green> **You**: What... <br> </font>\n",
    ">  <font color= #2B65EC> **Prime Minister**: Our friends here seem to have run into a bit of an issue, see, some diamonds seem to have been stolen. Problem is, the only person... goblin, to have seen them is our distinguished guest, Krenk. <br> </font>\n",
    "> <font color= gray>  **Fidelious**: And while the Ministry completely believes Krenk as to the diamonds’ worth, we need another person to validate his claim. Safety policies, you see. <br> </font>\n",
    ">  <font color= #2B65EC> **Prime Minister**: So, since you’re the best data scientist in our country, I thought you could help. Mr. Krenk will provide you with the characteristics of the missing diamonds and we need you to create a model to value them. <br> </font>\n",
    "> <font color= green> **You**: But I’m not a lapidarist.<br> </font>\n",
    ">  <font color= #2B65EC> **Prime Minister**: Which is why we’re providing you with a huge dataset, containing characteristics and valuations for tens of thousands of diamonds. Now, get working. <br> </font>\n",
    "\n",
    "Huge? Tens of thousands? You think. And I thought I was the clueless one here."
   ]
  },
  {
   "cell_type": "markdown",
   "metadata": {},
   "source": [
    "## Data\n",
    "\n",
    "The file that contains the information can be download from: [Diamonds Dataset](https://github.com/jeasusav10/IM-Automation/blob/main/Lapidarist%20Problem/diamonds_data.csv)"
   ]
  },
  {
   "cell_type": "markdown",
   "metadata": {},
   "source": [
    "## Code\n",
    "\n",
    "In general terms, the goal was to <font color= red> **create a prediction model** </font>\n",
    "\n",
    "The code will use **Tensorflow** for creating the model, **Pandas** for data maniupulation and anlaysis, and **Matplotlib/Seaborn** for data visualization."
   ]
  },
  {
   "cell_type": "markdown",
   "metadata": {},
   "source": [
    "### Import Data\n",
    "\n",
    "The first was importing the data and libraries required."
   ]
  },
  {
   "cell_type": "code",
   "execution_count": 1,
   "metadata": {},
   "outputs": [],
   "source": [
    "#Install tensorflow - uncomment if required\n",
    "#!pip install tensorflow "
   ]
  },
  {
   "cell_type": "code",
   "execution_count": 2,
   "metadata": {},
   "outputs": [],
   "source": [
    "#Import libraries\n",
    "import matplotlib.pyplot as plt\n",
    "import numpy as np\n",
    "import pandas as pd\n",
    "import seaborn as sns\n",
    "import tensorflow as tf\n",
    "from tensorflow import keras\n",
    "from tensorflow.keras import layers\n",
    "from tensorflow.keras.layers.experimental import preprocessing"
   ]
  },
  {
   "cell_type": "code",
   "execution_count": 3,
   "metadata": {},
   "outputs": [],
   "source": [
    "#Import data\n",
    "path = 'diamonds_data.csv'\n",
    "df = pd.read_csv(path)"
   ]
  },
  {
   "cell_type": "code",
   "execution_count": 4,
   "metadata": {},
   "outputs": [
    {
     "data": {
      "text/html": [
       "<div>\n",
       "<style scoped>\n",
       "    .dataframe tbody tr th:only-of-type {\n",
       "        vertical-align: middle;\n",
       "    }\n",
       "\n",
       "    .dataframe tbody tr th {\n",
       "        vertical-align: top;\n",
       "    }\n",
       "\n",
       "    .dataframe thead th {\n",
       "        text-align: right;\n",
       "    }\n",
       "</style>\n",
       "<table border=\"1\" class=\"dataframe\">\n",
       "  <thead>\n",
       "    <tr style=\"text-align: right;\">\n",
       "      <th></th>\n",
       "      <th>carat</th>\n",
       "      <th>cut</th>\n",
       "      <th>color</th>\n",
       "      <th>clarity</th>\n",
       "      <th>depth</th>\n",
       "      <th>table</th>\n",
       "      <th>price</th>\n",
       "      <th>x</th>\n",
       "      <th>y</th>\n",
       "      <th>z</th>\n",
       "    </tr>\n",
       "  </thead>\n",
       "  <tbody>\n",
       "    <tr>\n",
       "      <th>53925</th>\n",
       "      <td>0.72</td>\n",
       "      <td>Ideal</td>\n",
       "      <td>D</td>\n",
       "      <td>SI1</td>\n",
       "      <td>60.8</td>\n",
       "      <td>57.0</td>\n",
       "      <td>2757</td>\n",
       "      <td>5.75</td>\n",
       "      <td>5.76</td>\n",
       "      <td>3.50</td>\n",
       "    </tr>\n",
       "    <tr>\n",
       "      <th>53926</th>\n",
       "      <td>0.72</td>\n",
       "      <td>Good</td>\n",
       "      <td>D</td>\n",
       "      <td>SI1</td>\n",
       "      <td>63.1</td>\n",
       "      <td>55.0</td>\n",
       "      <td>2757</td>\n",
       "      <td>5.69</td>\n",
       "      <td>5.75</td>\n",
       "      <td>3.61</td>\n",
       "    </tr>\n",
       "    <tr>\n",
       "      <th>53927</th>\n",
       "      <td>0.70</td>\n",
       "      <td>Very Good</td>\n",
       "      <td>D</td>\n",
       "      <td>SI1</td>\n",
       "      <td>62.8</td>\n",
       "      <td>60.0</td>\n",
       "      <td>2757</td>\n",
       "      <td>5.66</td>\n",
       "      <td>5.68</td>\n",
       "      <td>3.56</td>\n",
       "    </tr>\n",
       "    <tr>\n",
       "      <th>53928</th>\n",
       "      <td>0.86</td>\n",
       "      <td>Premium</td>\n",
       "      <td>H</td>\n",
       "      <td>SI2</td>\n",
       "      <td>61.0</td>\n",
       "      <td>58.0</td>\n",
       "      <td>2757</td>\n",
       "      <td>6.15</td>\n",
       "      <td>6.12</td>\n",
       "      <td>3.74</td>\n",
       "    </tr>\n",
       "    <tr>\n",
       "      <th>53929</th>\n",
       "      <td>0.75</td>\n",
       "      <td>Ideal</td>\n",
       "      <td>D</td>\n",
       "      <td>SI2</td>\n",
       "      <td>62.2</td>\n",
       "      <td>55.0</td>\n",
       "      <td>2757</td>\n",
       "      <td>5.83</td>\n",
       "      <td>5.87</td>\n",
       "      <td>3.64</td>\n",
       "    </tr>\n",
       "  </tbody>\n",
       "</table>\n",
       "</div>"
      ],
      "text/plain": [
       "       carat        cut color clarity  depth  table  price     x     y     z\n",
       "53925   0.72      Ideal     D     SI1   60.8   57.0   2757  5.75  5.76  3.50\n",
       "53926   0.72       Good     D     SI1   63.1   55.0   2757  5.69  5.75  3.61\n",
       "53927   0.70  Very Good     D     SI1   62.8   60.0   2757  5.66  5.68  3.56\n",
       "53928   0.86    Premium     H     SI2   61.0   58.0   2757  6.15  6.12  3.74\n",
       "53929   0.75      Ideal     D     SI2   62.2   55.0   2757  5.83  5.87  3.64"
      ]
     },
     "execution_count": 4,
     "metadata": {},
     "output_type": "execute_result"
    }
   ],
   "source": [
    "#Last five rows\n",
    "df.tail()"
   ]
  },
  {
   "cell_type": "markdown",
   "metadata": {},
   "source": [
    "### Data Overview\n",
    "\n",
    "It was nescesary to revise which parameters have *Null/NaN values*, in order to replace the *damaged* entries."
   ]
  },
  {
   "cell_type": "code",
   "execution_count": 5,
   "metadata": {},
   "outputs": [
    {
     "name": "stdout",
     "output_type": "stream",
     "text": [
      "<class 'pandas.core.frame.DataFrame'>\n",
      "RangeIndex: 53930 entries, 0 to 53929\n",
      "Data columns (total 10 columns):\n",
      " #   Column   Non-Null Count  Dtype  \n",
      "---  ------   --------------  -----  \n",
      " 0   carat    53930 non-null  float64\n",
      " 1   cut      53930 non-null  object \n",
      " 2   color    53930 non-null  object \n",
      " 3   clarity  53930 non-null  object \n",
      " 4   depth    53930 non-null  float64\n",
      " 5   table    53930 non-null  float64\n",
      " 6   price    53930 non-null  int64  \n",
      " 7   x        53930 non-null  float64\n",
      " 8   y        53930 non-null  float64\n",
      " 9   z        53930 non-null  float64\n",
      "dtypes: float64(6), int64(1), object(3)\n",
      "memory usage: 4.1+ MB\n"
     ]
    }
   ],
   "source": [
    "#General information of the parameters\n",
    "df.info()"
   ]
  },
  {
   "cell_type": "markdown",
   "metadata": {},
   "source": [
    "In this case, the dataset did not contain null values.\n",
    "\n",
    "However, the algorithms for **prediction models** require numeric data. In the dataset, there were three non-numeric parameters (**cut, color, clarity**). \n",
    "\n",
    "So, the first step was to cast these parameters using *dummies*."
   ]
  },
  {
   "cell_type": "code",
   "execution_count": 6,
   "metadata": {},
   "outputs": [
    {
     "name": "stdout",
     "output_type": "stream",
     "text": [
      "<class 'pandas.core.frame.DataFrame'>\n",
      "RangeIndex: 53930 entries, 0 to 53929\n",
      "Data columns (total 27 columns):\n",
      " #   Column     Non-Null Count  Dtype  \n",
      "---  ------     --------------  -----  \n",
      " 0   carat      53930 non-null  float64\n",
      " 1   depth      53930 non-null  float64\n",
      " 2   table      53930 non-null  float64\n",
      " 3   price      53930 non-null  int64  \n",
      " 4   x          53930 non-null  float64\n",
      " 5   y          53930 non-null  float64\n",
      " 6   z          53930 non-null  float64\n",
      " 7   Fair       53930 non-null  uint8  \n",
      " 8   Good       53930 non-null  uint8  \n",
      " 9   Ideal      53930 non-null  uint8  \n",
      " 10  Premium    53930 non-null  uint8  \n",
      " 11  Very Good  53930 non-null  uint8  \n",
      " 12  D          53930 non-null  uint8  \n",
      " 13  E          53930 non-null  uint8  \n",
      " 14  F          53930 non-null  uint8  \n",
      " 15  G          53930 non-null  uint8  \n",
      " 16  H          53930 non-null  uint8  \n",
      " 17  I          53930 non-null  uint8  \n",
      " 18  J          53930 non-null  uint8  \n",
      " 19  I1         53930 non-null  uint8  \n",
      " 20  IF         53930 non-null  uint8  \n",
      " 21  SI1        53930 non-null  uint8  \n",
      " 22  SI2        53930 non-null  uint8  \n",
      " 23  VS1        53930 non-null  uint8  \n",
      " 24  VS2        53930 non-null  uint8  \n",
      " 25  VVS1       53930 non-null  uint8  \n",
      " 26  VVS2       53930 non-null  uint8  \n",
      "dtypes: float64(6), int64(1), uint8(20)\n",
      "memory usage: 3.9 MB\n"
     ]
    }
   ],
   "source": [
    "#Generate dummies\n",
    "df = pd.get_dummies(df, prefix='', prefix_sep='')\n",
    "df.info()"
   ]
  },
  {
   "cell_type": "markdown",
   "metadata": {},
   "source": [
    "### Trainset & Testset\n",
    "\n",
    "The next step was to split the data in train and test set. The dataset is quite big (**>50,000 entries**), so the rule 80/20 is not really nescesary. In cases like this, it is recommended to use more data for training, therefore, **the chosen partition were 90-10** for trainset and testset, respectively."
   ]
  },
  {
   "cell_type": "code",
   "execution_count": 8,
   "metadata": {},
   "outputs": [],
   "source": [
    "#Split in train/test sets\n",
    "trainset = df.sample(frac=0.9, random_state=0)\n",
    "testset = df.drop(df_train.index)"
   ]
  },
  {
   "cell_type": "markdown",
   "metadata": {},
   "source": [
    "### Features & Labels\n",
    "\n",
    "Also, it was necessary to define our ouput: **price** \n",
    "\n",
    "It is important to remeber:\n",
    "- Features = Inputs\n",
    "- Labels = Outputs"
   ]
  },
  {
   "cell_type": "code",
   "execution_count": 9,
   "metadata": {},
   "outputs": [],
   "source": [
    "#Define labels and features for both sets\n",
    "train_features = trainset.copy()\n",
    "test_features = testset.copy()\n",
    "\n",
    "train_labels = train_features.pop('price')\n",
    "test_labels = test_features.pop('price')"
   ]
  },
  {
   "cell_type": "markdown",
   "metadata": {},
   "source": [
    "### Normalization\n",
    "\n",
    "Normalization was required because parameters the difference in ranges was noticeable (this could cause a problem on the algorithm because it could ponderate some parameters with more weight).\n",
    "\n",
    "For example, **depht** include two decimals, meanwhile **carat** is in the mean is below 1."
   ]
  },
  {
   "cell_type": "code",
   "execution_count": 12,
   "metadata": {},
   "outputs": [
    {
     "data": {
      "text/html": [
       "<div>\n",
       "<style scoped>\n",
       "    .dataframe tbody tr th:only-of-type {\n",
       "        vertical-align: middle;\n",
       "    }\n",
       "\n",
       "    .dataframe tbody tr th {\n",
       "        vertical-align: top;\n",
       "    }\n",
       "\n",
       "    .dataframe thead th {\n",
       "        text-align: right;\n",
       "    }\n",
       "</style>\n",
       "<table border=\"1\" class=\"dataframe\">\n",
       "  <thead>\n",
       "    <tr style=\"text-align: right;\">\n",
       "      <th></th>\n",
       "      <th>mean</th>\n",
       "      <th>std</th>\n",
       "    </tr>\n",
       "  </thead>\n",
       "  <tbody>\n",
       "    <tr>\n",
       "      <th>carat</th>\n",
       "      <td>0.797333</td>\n",
       "      <td>0.474182</td>\n",
       "    </tr>\n",
       "    <tr>\n",
       "      <th>depth</th>\n",
       "      <td>61.749031</td>\n",
       "      <td>1.433777</td>\n",
       "    </tr>\n",
       "    <tr>\n",
       "      <th>table</th>\n",
       "      <td>57.457851</td>\n",
       "      <td>2.236612</td>\n",
       "    </tr>\n",
       "    <tr>\n",
       "      <th>x</th>\n",
       "      <td>5.729558</td>\n",
       "      <td>1.121658</td>\n",
       "    </tr>\n",
       "    <tr>\n",
       "      <th>y</th>\n",
       "      <td>5.732860</td>\n",
       "      <td>1.139139</td>\n",
       "    </tr>\n",
       "    <tr>\n",
       "      <th>z</th>\n",
       "      <td>3.537737</td>\n",
       "      <td>0.706939</td>\n",
       "    </tr>\n",
       "    <tr>\n",
       "      <th>Fair</th>\n",
       "      <td>0.030224</td>\n",
       "      <td>0.171206</td>\n",
       "    </tr>\n",
       "    <tr>\n",
       "      <th>Good</th>\n",
       "      <td>0.090941</td>\n",
       "      <td>0.287528</td>\n",
       "    </tr>\n",
       "    <tr>\n",
       "      <th>Ideal</th>\n",
       "      <td>0.400416</td>\n",
       "      <td>0.489988</td>\n",
       "    </tr>\n",
       "    <tr>\n",
       "      <th>Premium</th>\n",
       "      <td>0.254692</td>\n",
       "      <td>0.435693</td>\n",
       "    </tr>\n",
       "    <tr>\n",
       "      <th>Very Good</th>\n",
       "      <td>0.223726</td>\n",
       "      <td>0.416745</td>\n",
       "    </tr>\n",
       "    <tr>\n",
       "      <th>D</th>\n",
       "      <td>0.126213</td>\n",
       "      <td>0.332093</td>\n",
       "    </tr>\n",
       "    <tr>\n",
       "      <th>E</th>\n",
       "      <td>0.181243</td>\n",
       "      <td>0.385223</td>\n",
       "    </tr>\n",
       "    <tr>\n",
       "      <th>F</th>\n",
       "      <td>0.176587</td>\n",
       "      <td>0.381323</td>\n",
       "    </tr>\n",
       "    <tr>\n",
       "      <th>G</th>\n",
       "      <td>0.209098</td>\n",
       "      <td>0.406669</td>\n",
       "    </tr>\n",
       "    <tr>\n",
       "      <th>H</th>\n",
       "      <td>0.154398</td>\n",
       "      <td>0.361333</td>\n",
       "    </tr>\n",
       "    <tr>\n",
       "      <th>I</th>\n",
       "      <td>0.100480</td>\n",
       "      <td>0.300642</td>\n",
       "    </tr>\n",
       "    <tr>\n",
       "      <th>J</th>\n",
       "      <td>0.051981</td>\n",
       "      <td>0.221991</td>\n",
       "    </tr>\n",
       "    <tr>\n",
       "      <th>I1</th>\n",
       "      <td>0.013948</td>\n",
       "      <td>0.117277</td>\n",
       "    </tr>\n",
       "    <tr>\n",
       "      <th>IF</th>\n",
       "      <td>0.033500</td>\n",
       "      <td>0.179941</td>\n",
       "    </tr>\n",
       "    <tr>\n",
       "      <th>SI1</th>\n",
       "      <td>0.242248</td>\n",
       "      <td>0.428448</td>\n",
       "    </tr>\n",
       "    <tr>\n",
       "      <th>SI2</th>\n",
       "      <td>0.170200</td>\n",
       "      <td>0.375812</td>\n",
       "    </tr>\n",
       "    <tr>\n",
       "      <th>VS1</th>\n",
       "      <td>0.150401</td>\n",
       "      <td>0.357467</td>\n",
       "    </tr>\n",
       "    <tr>\n",
       "      <th>VS2</th>\n",
       "      <td>0.227229</td>\n",
       "      <td>0.419046</td>\n",
       "    </tr>\n",
       "    <tr>\n",
       "      <th>VVS1</th>\n",
       "      <td>0.067989</td>\n",
       "      <td>0.251730</td>\n",
       "    </tr>\n",
       "    <tr>\n",
       "      <th>VVS2</th>\n",
       "      <td>0.094485</td>\n",
       "      <td>0.292505</td>\n",
       "    </tr>\n",
       "  </tbody>\n",
       "</table>\n",
       "</div>"
      ],
      "text/plain": [
       "                mean       std\n",
       "carat       0.797333  0.474182\n",
       "depth      61.749031  1.433777\n",
       "table      57.457851  2.236612\n",
       "x           5.729558  1.121658\n",
       "y           5.732860  1.139139\n",
       "z           3.537737  0.706939\n",
       "Fair        0.030224  0.171206\n",
       "Good        0.090941  0.287528\n",
       "Ideal       0.400416  0.489988\n",
       "Premium     0.254692  0.435693\n",
       "Very Good   0.223726  0.416745\n",
       "D           0.126213  0.332093\n",
       "E           0.181243  0.385223\n",
       "F           0.176587  0.381323\n",
       "G           0.209098  0.406669\n",
       "H           0.154398  0.361333\n",
       "I           0.100480  0.300642\n",
       "J           0.051981  0.221991\n",
       "I1          0.013948  0.117277\n",
       "IF          0.033500  0.179941\n",
       "SI1         0.242248  0.428448\n",
       "SI2         0.170200  0.375812\n",
       "VS1         0.150401  0.357467\n",
       "VS2         0.227229  0.419046\n",
       "VVS1        0.067989  0.251730\n",
       "VVS2        0.094485  0.292505"
      ]
     },
     "execution_count": 12,
     "metadata": {},
     "output_type": "execute_result"
    }
   ],
   "source": [
    "#Verify if normalization required\n",
    "train_features.describe().transpose()[['mean', 'std']]"
   ]
  },
  {
   "cell_type": "code",
   "execution_count": 18,
   "metadata": {},
   "outputs": [],
   "source": [
    "#Normalization (layer)\n",
    "normalizer = preprocessing.Normalization()\n",
    "normalizer.adapt(np.array(train_features))"
   ]
  },
  {
   "cell_type": "code",
   "execution_count": 19,
   "metadata": {},
   "outputs": [
    {
     "data": {
      "text/plain": [
       "array([7.9733318e-01, 6.1749031e+01, 5.7457851e+01, 5.7295585e+00,\n",
       "       5.7328601e+00, 3.5377374e+00, 3.0224364e-02, 9.0940930e-02,\n",
       "       4.0041617e-01, 2.5469229e-01, 2.2372623e-01, 1.2621300e-01,\n",
       "       1.8124318e-01, 1.7658694e-01, 2.0909822e-01, 1.5439768e-01,\n",
       "       1.0048005e-01, 5.1980961e-02, 1.3948122e-02, 3.3500217e-02,\n",
       "       2.4224818e-01, 1.7020005e-01, 1.5040073e-01, 2.2722872e-01,\n",
       "       6.7989372e-02, 9.4484620e-02], dtype=float32)"
      ]
     },
     "execution_count": 19,
     "metadata": {},
     "output_type": "execute_result"
    }
   ],
   "source": [
    "#Calculate mean and std, and store them in the normalization layer\n",
    "normalizer.mean.numpy()"
   ]
  },
  {
   "cell_type": "markdown",
   "metadata": {},
   "source": [
    "When the layer is called it returns the input data, with each feature independently normalized."
   ]
  },
  {
   "cell_type": "markdown",
   "metadata": {},
   "source": [
    "### Linear Regression (Examples)\n",
    "\n",
    "The idea was to generate a Deep Neural Network with a multivariate linear regreession as output layer.\n",
    "This means that the goal is to predict an output based on the funcion: $y=mx +b$\n",
    "\n",
    "Where:\n",
    "- $y$ = label\n",
    "- $x$ = features\n",
    "- $m$ = weights learned \n",
    "- $b$ = bias learned\n",
    "\n",
    "In order to understant the procedure, the next code lines shows the representation for:\n",
    "- Linear Regression: One variable\n",
    "- Linear Regression: Multiple variables "
   ]
  },
  {
   "cell_type": "markdown",
   "metadata": {},
   "source": [
    "In all cases, the features should be normalized."
   ]
  },
  {
   "cell_type": "code",
   "execution_count": 22,
   "metadata": {},
   "outputs": [
    {
     "name": "stdout",
     "output_type": "stream",
     "text": [
      "Model: \"sequential\"\n",
      "_________________________________________________________________\n",
      "Layer (type)                 Output Shape              Param #   \n",
      "=================================================================\n",
      "normalization_6 (Normalizati (None, 1)                 3         \n",
      "_________________________________________________________________\n",
      "dense (Dense)                (None, 1)                 2         \n",
      "=================================================================\n",
      "Total params: 5\n",
      "Trainable params: 2\n",
      "Non-trainable params: 3\n",
      "_________________________________________________________________\n"
     ]
    }
   ],
   "source": [
    "#Example of LR for 1 feature\n",
    "x = np.array(train_features['x'])\n",
    "\n",
    "#Normalization\n",
    "x_normalizer = preprocessing.Normalization(input_shape=[1,])\n",
    "x_normalizer.adapt(x)\n",
    "\n",
    "#Model\n",
    "x_model = tf.keras.Sequential([x_normalizer,layers.Dense(units=1)])\n",
    "\n",
    "#Summary\n",
    "x_model.summary()"
   ]
  },
  {
   "cell_type": "markdown",
   "metadata": {},
   "source": [
    "The model above will predict **price** from **x** (this is just an example of how linnear regression works).\n",
    "The line below runs the untrained model on the first 10 x values."
   ]
  },
  {
   "cell_type": "code",
   "execution_count": 24,
   "metadata": {},
   "outputs": [
    {
     "data": {
      "text/plain": [
       "array([[-0.0763154 ],\n",
       "       [-0.06500017],\n",
       "       [-0.2248279 ],\n",
       "       [-0.17532377],\n",
       "       [ 0.15564695],\n",
       "       [ 0.1867639 ],\n",
       "       [ 0.09765638],\n",
       "       [-0.0494417 ],\n",
       "       [ 0.2320248 ],\n",
       "       [-0.17108051]], dtype=float32)"
      ]
     },
     "execution_count": 24,
     "metadata": {},
     "output_type": "execute_result"
    }
   ],
   "source": [
    "#Prediction of untrained model\n",
    "x_model.predict(x[:10])"
   ]
  },
  {
   "cell_type": "markdown",
   "metadata": {},
   "source": [
    "The next step was trainning the model, using the loss and the optimizer (Adam)for the *Gradient Descend*."
   ]
  },
  {
   "cell_type": "code",
   "execution_count": 26,
   "metadata": {},
   "outputs": [],
   "source": [
    "#Train model\n",
    "\n",
    "#Configure the training\n",
    "x_model.compile(optimizer=tf.optimizers.Adam(learning_rate=0.1),\n",
    "                loss='mean_absolute_error')\n",
    "\n",
    "#Trainning\n",
    "price_x = x_model.fit(train_features['x'], train_labels, epochs= 50,verbose=0, validation_split = 0.2)"
   ]
  },
  {
   "cell_type": "markdown",
   "metadata": {},
   "source": [
    "The next line is helpful to visualize the model's training progress."
   ]
  },
  {
   "cell_type": "code",
   "execution_count": 31,
   "metadata": {},
   "outputs": [
    {
     "data": {
      "image/png": "[encoded data removed]",
      "text/plain": [
       "<Figure size 432x288 with 1 Axes>"
      ]
     },
     "metadata": {
      "needs_background": "light"
     },
     "output_type": "display_data"
    }
   ],
   "source": [
    "#Progress\n",
    "def plot_loss(history):\n",
    "  plt.plot(history.history['loss'], label='loss')\n",
    "  plt.plot(history.history['val_loss'], label='val_loss')\n",
    "  plt.ylim([0, 2000])\n",
    "  plt.xlabel('Epoch')\n",
    "  plt.ylabel('Error')\n",
    "  plt.legend()\n",
    "  plt.grid(True)\n",
    "\n",
    "plot_loss(price_x)"
   ]
  },
  {
   "cell_type": "markdown",
   "metadata": {},
   "source": [
    "Now, the idea was to evaluate model on the testset. \n",
    "\n",
    "As it can be in the next image, it was a good approximation, as long as the model used one variable."
   ]
  },
  {
   "cell_type": "code",
   "execution_count": 35,
   "metadata": {},
   "outputs": [
    {
     "data": {
      "image/png": "[encoded data removed]",
      "text/plain": [
       "<Figure size 432x288 with 1 Axes>"
      ]
     },
     "metadata": {
      "needs_background": "light"
     },
     "output_type": "display_data"
    }
   ],
   "source": [
    "#Evaluate model\n",
    "test_results = {}\n",
    "test_results['x'] = x_model.evaluate(test_features['x'],test_labels, verbose=0)\n",
    "\n",
    "#Predict results\n",
    "x = tf.linspace(0.0, 10, 1000)\n",
    "y = x_model.predict(x)\n",
    "\n",
    "#Plot the data to compare predictions\n",
    "def plot_out(x, y):\n",
    "  plt.scatter(train_features['x'], train_labels, label='Data')\n",
    "  plt.plot(x, y, color='k', label='Predictions')\n",
    "  plt.xlabel('X')\n",
    "  plt.ylabel('Price')\n",
    "  plt.legend()\n",
    "plot_out(x,y)\n"
   ]
  },
  {
   "cell_type": "markdown",
   "metadata": {},
   "source": [
    "So, the same idea could be applied using all features (the cange is that now, m is a matrix and b is a vector). "
   ]
  },
  {
   "cell_type": "code",
   "execution_count": 36,
   "metadata": {},
   "outputs": [],
   "source": [
    "#Normalization of all features\n",
    "linear_model = tf.keras.Sequential([normalizer,layers.Dense(units=1)])"
   ]
  },
  {
   "cell_type": "code",
   "execution_count": 37,
   "metadata": {},
   "outputs": [],
   "source": [
    "#Model trainning\n",
    "linear_model.compile(optimizer=tf.optimizers.Adam(learning_rate=0.1),loss='mean_absolute_error')\n",
    "history = linear_model.fit(train_features, train_labels,epochs=100, verbose=0,validation_split = 0.2)"
   ]
  },
  {
   "cell_type": "code",
   "execution_count": 38,
   "metadata": {},
   "outputs": [
    {
     "data": {
      "image/png": "[encoded data removed]",
      "text/plain": [
       "<Figure size 432x288 with 1 Axes>"
      ]
     },
     "metadata": {
      "needs_background": "light"
     },
     "output_type": "display_data"
    }
   ],
   "source": [
    "#Plot Loss\n",
    "plot_loss(history)"
   ]
  },
  {
   "cell_type": "code",
   "execution_count": 40,
   "metadata": {},
   "outputs": [],
   "source": [
    "#Model Evaluation\n",
    "test_results['linear_model'] = linear_model.evaluate(test_features, test_labels, verbose=0)"
   ]
  },
  {
   "cell_type": "markdown",
   "metadata": {},
   "source": [
    "### DNN \n",
    "\n",
    "Now, some *hidden* non-linear layers were added. In general, the model contains:\n",
    "- Normalization layer.\n",
    "- Two hidden, nonlinear, using the relu nonlinearity.\n",
    "- A linear single-output layer."
   ]
  },
  {
   "cell_type": "code",
   "execution_count": 41,
   "metadata": {},
   "outputs": [],
   "source": [
    "#Bulding model\n",
    "def build_and_compile_model(norm):\n",
    "    model = keras.Sequential([norm, layers.Dense(64, activation='relu'),\n",
    "                              layers.Dense(64, activation='relu'),\n",
    "                              layers.Dense(1)])\n",
    "    model.compile(loss='mean_absolute_error',optimizer=tf.keras.optimizers.Adam(0.001))\n",
    "    return model"
   ]
  },
  {
   "cell_type": "code",
   "execution_count": 45,
   "metadata": {},
   "outputs": [],
   "source": [
    "#Example with variable x\n",
    "\n",
    "#Build model\n",
    "dnn_x_model = build_and_compile_model(x_normalizer)\n",
    "\n",
    "#Train model\n",
    "history = x_model.fit(train_features['x'], train_labels,\n",
    "                      validation_split=0.2,verbose=0, epochs=50)\n",
    "\n",
    "#Evaluation\n",
    "test_results['x'] = dnn_x_model.evaluate(test_features['x'], \n",
    "                                        test_labels, verbose=0)\n"
   ]
  },
  {
   "cell_type": "code",
   "execution_count": 46,
   "metadata": {},
   "outputs": [],
   "source": [
    "#Full model\n",
    "\n",
    "#Build model\n",
    "dnn_model = build_and_compile_model(normalizer)\n",
    "\n",
    "#Train model\n",
    "history = dnn_model.fit(train_features, train_labels,\n",
    "                        validation_split=0.2, verbose=0, epochs=200)\n",
    "\n",
    "#Evaluation\n",
    "test_results['dnn_model'] = dnn_model.evaluate(test_features, test_labels, verbose=0)"
   ]
  },
  {
   "cell_type": "markdown",
   "metadata": {},
   "source": [
    "Now, the idea is to make predictions with testset."
   ]
  },
  {
   "cell_type": "code",
   "execution_count": 50,
   "metadata": {},
   "outputs": [
    {
     "data": {
      "text/plain": [
       "[<matplotlib.lines.Line2D at 0x2a0b27acb80>]"
      ]
     },
     "execution_count": 50,
     "metadata": {},
     "output_type": "execute_result"
    },
    {
     "data": {
      "image/png": "[encoded data removed]",
      "text/plain": [
       "<Figure size 432x288 with 1 Axes>"
      ]
     },
     "metadata": {
      "needs_background": "light"
     },
     "output_type": "display_data"
    }
   ],
   "source": [
    "test_predictions = dnn_model.predict(test_features).flatten()\n",
    "\n",
    "a = plt.axes(aspect='equal')\n",
    "plt.scatter(test_labels, test_predictions)\n",
    "plt.xlabel('True Values')\n",
    "plt.ylabel('Predictions')\n",
    "lims = [0, 1000]\n",
    "plt.xlim(lims)\n",
    "plt.ylim(lims)\n",
    "plt.plot(lims, lims)"
   ]
  },
  {
   "cell_type": "markdown",
   "metadata": {},
   "source": [
    "It can be seen that the predictions have an acceptable range of error."
   ]
  },
  {
   "cell_type": "markdown",
   "metadata": {},
   "source": [
    "### New Entries"
   ]
  },
  {
   "cell_type": "markdown",
   "metadata": {},
   "source": [
    "Now the idea, was to use the model to predict the price for the **stolen items**. The first thing was to generate a pandas frame with the features."
   ]
  },
  {
   "cell_type": "code",
   "execution_count": 127,
   "metadata": {},
   "outputs": [
    {
     "data": {
      "text/html": [
       "<div>\n",
       "<style scoped>\n",
       "    .dataframe tbody tr th:only-of-type {\n",
       "        vertical-align: middle;\n",
       "    }\n",
       "\n",
       "    .dataframe tbody tr th {\n",
       "        vertical-align: top;\n",
       "    }\n",
       "\n",
       "    .dataframe thead th {\n",
       "        text-align: right;\n",
       "    }\n",
       "</style>\n",
       "<table border=\"1\" class=\"dataframe\">\n",
       "  <thead>\n",
       "    <tr style=\"text-align: right;\">\n",
       "      <th></th>\n",
       "      <th>carat</th>\n",
       "      <th>depth</th>\n",
       "      <th>cut</th>\n",
       "      <th>color</th>\n",
       "      <th>clarity</th>\n",
       "      <th>table</th>\n",
       "      <th>x</th>\n",
       "      <th>y</th>\n",
       "      <th>z</th>\n",
       "    </tr>\n",
       "  </thead>\n",
       "  <tbody>\n",
       "    <tr>\n",
       "      <th>0</th>\n",
       "      <td>0.71</td>\n",
       "      <td>63.1</td>\n",
       "      <td>Good</td>\n",
       "      <td>I</td>\n",
       "      <td>VVS2</td>\n",
       "      <td>58.0</td>\n",
       "      <td>5.64</td>\n",
       "      <td>5.71</td>\n",
       "      <td>3.58</td>\n",
       "    </tr>\n",
       "    <tr>\n",
       "      <th>1</th>\n",
       "      <td>0.83</td>\n",
       "      <td>62.1</td>\n",
       "      <td>Ideal</td>\n",
       "      <td>G</td>\n",
       "      <td>VS1</td>\n",
       "      <td>55.0</td>\n",
       "      <td>6.02</td>\n",
       "      <td>6.05</td>\n",
       "      <td>3.75</td>\n",
       "    </tr>\n",
       "    <tr>\n",
       "      <th>2</th>\n",
       "      <td>0.50</td>\n",
       "      <td>61.5</td>\n",
       "      <td>Ideal</td>\n",
       "      <td>E</td>\n",
       "      <td>VS2</td>\n",
       "      <td>55.0</td>\n",
       "      <td>5.11</td>\n",
       "      <td>5.16</td>\n",
       "      <td>3.16</td>\n",
       "    </tr>\n",
       "    <tr>\n",
       "      <th>3</th>\n",
       "      <td>0.39</td>\n",
       "      <td>61.6</td>\n",
       "      <td>Premium</td>\n",
       "      <td>J</td>\n",
       "      <td>VS1</td>\n",
       "      <td>59.0</td>\n",
       "      <td>4.67</td>\n",
       "      <td>4.71</td>\n",
       "      <td>2.89</td>\n",
       "    </tr>\n",
       "    <tr>\n",
       "      <th>4</th>\n",
       "      <td>0.32</td>\n",
       "      <td>62.1</td>\n",
       "      <td>Premium</td>\n",
       "      <td>G</td>\n",
       "      <td>VS1</td>\n",
       "      <td>56.0</td>\n",
       "      <td>4.43</td>\n",
       "      <td>4.40</td>\n",
       "      <td>2.74</td>\n",
       "    </tr>\n",
       "    <tr>\n",
       "      <th>5</th>\n",
       "      <td>0.90</td>\n",
       "      <td>63.3</td>\n",
       "      <td>Good</td>\n",
       "      <td>F</td>\n",
       "      <td>SI2</td>\n",
       "      <td>57.0</td>\n",
       "      <td>6.08</td>\n",
       "      <td>6.14</td>\n",
       "      <td>3.87</td>\n",
       "    </tr>\n",
       "    <tr>\n",
       "      <th>6</th>\n",
       "      <td>0.51</td>\n",
       "      <td>60.9</td>\n",
       "      <td>Ideal</td>\n",
       "      <td>D</td>\n",
       "      <td>VS1</td>\n",
       "      <td>57.0</td>\n",
       "      <td>5.20</td>\n",
       "      <td>5.17</td>\n",
       "      <td>3.16</td>\n",
       "    </tr>\n",
       "    <tr>\n",
       "      <th>7</th>\n",
       "      <td>1.12</td>\n",
       "      <td>62.1</td>\n",
       "      <td>Ideal</td>\n",
       "      <td>G</td>\n",
       "      <td>VVS2</td>\n",
       "      <td>54.8</td>\n",
       "      <td>6.64</td>\n",
       "      <td>6.66</td>\n",
       "      <td>4.13</td>\n",
       "    </tr>\n",
       "    <tr>\n",
       "      <th>8</th>\n",
       "      <td>0.40</td>\n",
       "      <td>62.4</td>\n",
       "      <td>Ideal</td>\n",
       "      <td>G</td>\n",
       "      <td>VVS2</td>\n",
       "      <td>56.0</td>\n",
       "      <td>4.72</td>\n",
       "      <td>4.74</td>\n",
       "      <td>2.95</td>\n",
       "    </tr>\n",
       "    <tr>\n",
       "      <th>9</th>\n",
       "      <td>0.36</td>\n",
       "      <td>62.7</td>\n",
       "      <td>Premium</td>\n",
       "      <td>I</td>\n",
       "      <td>VS2</td>\n",
       "      <td>59.0</td>\n",
       "      <td>4.54</td>\n",
       "      <td>4.58</td>\n",
       "      <td>2.86</td>\n",
       "    </tr>\n",
       "  </tbody>\n",
       "</table>\n",
       "</div>"
      ],
      "text/plain": [
       "   carat  depth      cut color clarity  table     x     y     z\n",
       "0   0.71   63.1     Good     I    VVS2   58.0  5.64  5.71  3.58\n",
       "1   0.83   62.1    Ideal     G     VS1   55.0  6.02  6.05  3.75\n",
       "2   0.50   61.5    Ideal     E     VS2   55.0  5.11  5.16  3.16\n",
       "3   0.39   61.6  Premium     J     VS1   59.0  4.67  4.71  2.89\n",
       "4   0.32   62.1  Premium     G     VS1   56.0  4.43  4.40  2.74\n",
       "5   0.90   63.3     Good     F     SI2   57.0  6.08  6.14  3.87\n",
       "6   0.51   60.9    Ideal     D     VS1   57.0  5.20  5.17  3.16\n",
       "7   1.12   62.1    Ideal     G    VVS2   54.8  6.64  6.66  4.13\n",
       "8   0.40   62.4    Ideal     G    VVS2   56.0  4.72  4.74  2.95\n",
       "9   0.36   62.7  Premium     I     VS2   59.0  4.54  4.58  2.86"
      ]
     },
     "execution_count": 127,
     "metadata": {},
     "output_type": "execute_result"
    }
   ],
   "source": [
    "#Create DataFrame of stolen items\n",
    "carat = [0.71,0.83,0.5,0.39,0.32,0.9,0.51,1.12,0.4,0.36]\n",
    "cut = ['Good', 'Ideal','Ideal','Premium','Premium','Good','Ideal','Ideal','Ideal','Premium']\n",
    "color = ['I','G','E','J','G','F','D','G','G','I']\n",
    "clarity = ['VVS2','VS1','VS2','VS1','VS1','SI2','VS1','VVS2','VVS2','VS2']\n",
    "depth = depth = [63.1,62.1,61.5,61.6,62.1,63.3,60.9,62.1,62.4,62.7]\n",
    "table =[58,55,55,59,56,57,57,54.8,56,59]\n",
    "x = [5.64,6.02,5.11,4.67,4.43,6.08,5.2,6.64,4.72,4.54]\n",
    "y = [5.71,6.05,5.16,4.71,4.4,6.14,5.17,6.66,4.74,4.58]\n",
    "z = [3.58,3.75,3.16,2.89,2.74,3.87,3.16,4.13,2.95,2.86]\n",
    "\n",
    "data = {'carat':carat, 'depth': depth,'cut':cut, 'color': color, \n",
    "        'clarity':clarity, 'table':table,'x':x,'y':y,'z':z}\n",
    "stolen = pd.DataFrame(data=data)\n",
    "stolen.head(10)"
   ]
  },
  {
   "cell_type": "code",
   "execution_count": 128,
   "metadata": {},
   "outputs": [
    {
     "data": {
      "text/plain": [
       "Index(['Fair', 'H', 'I1', 'IF', 'SI1', 'VVS1', 'Very Good'], dtype='object')"
      ]
     },
     "execution_count": 128,
     "metadata": {},
     "output_type": "execute_result"
    }
   ],
   "source": [
    "#Generate dummies\n",
    "stolen_pred = pd.get_dummies(stolen, prefix='', prefix_sep='')\n",
    "stolen_pred.columns  ^ test_features.columns"
   ]
  },
  {
   "cell_type": "markdown",
   "metadata": {},
   "source": [
    "Some columns are missing if we compare against the test_features/train_features:\n",
    "- Fair\n",
    "- Very Good\n",
    "- H\n",
    "- I1\n",
    "- IF\n",
    "- SI1\n",
    "- VVS1"
   ]
  },
  {
   "cell_type": "code",
   "execution_count": 129,
   "metadata": {},
   "outputs": [],
   "source": [
    "#Add missing columns\n",
    "stolen_pred['Fair'] = 0\n",
    "stolen_pred['Very Good'] = 0\n",
    "stolen_pred['H'] = 0\n",
    "stolen_pred['I1'] = 0\n",
    "stolen_pred['IF'] = 0\n",
    "stolen_pred['SI1'] = 0\n",
    "stolen_pred['VVS1'] = 0"
   ]
  },
  {
   "cell_type": "markdown",
   "metadata": {},
   "source": [
    "### Predictions\n",
    "\n",
    "The predictions of the **stolen items** are stored on the next dataset."
   ]
  },
  {
   "cell_type": "code",
   "execution_count": 130,
   "metadata": {},
   "outputs": [],
   "source": [
    "#Predictions\n",
    "stolen_predictions = dnn_model.predict(stolen_pred).flatten()"
   ]
  },
  {
   "cell_type": "code",
   "execution_count": 131,
   "metadata": {},
   "outputs": [
    {
     "data": {
      "text/html": [
       "<div>\n",
       "<style scoped>\n",
       "    .dataframe tbody tr th:only-of-type {\n",
       "        vertical-align: middle;\n",
       "    }\n",
       "\n",
       "    .dataframe tbody tr th {\n",
       "        vertical-align: top;\n",
       "    }\n",
       "\n",
       "    .dataframe thead th {\n",
       "        text-align: right;\n",
       "    }\n",
       "</style>\n",
       "<table border=\"1\" class=\"dataframe\">\n",
       "  <thead>\n",
       "    <tr style=\"text-align: right;\">\n",
       "      <th></th>\n",
       "      <th>carat</th>\n",
       "      <th>depth</th>\n",
       "      <th>cut</th>\n",
       "      <th>color</th>\n",
       "      <th>clarity</th>\n",
       "      <th>table</th>\n",
       "      <th>x</th>\n",
       "      <th>y</th>\n",
       "      <th>z</th>\n",
       "      <th>Predictions</th>\n",
       "    </tr>\n",
       "  </thead>\n",
       "  <tbody>\n",
       "    <tr>\n",
       "      <th>0</th>\n",
       "      <td>0.71</td>\n",
       "      <td>63.1</td>\n",
       "      <td>Good</td>\n",
       "      <td>I</td>\n",
       "      <td>VVS2</td>\n",
       "      <td>58.0</td>\n",
       "      <td>5.64</td>\n",
       "      <td>5.71</td>\n",
       "      <td>3.58</td>\n",
       "      <td>1087.864380</td>\n",
       "    </tr>\n",
       "    <tr>\n",
       "      <th>1</th>\n",
       "      <td>0.83</td>\n",
       "      <td>62.1</td>\n",
       "      <td>Ideal</td>\n",
       "      <td>G</td>\n",
       "      <td>VS1</td>\n",
       "      <td>55.0</td>\n",
       "      <td>6.02</td>\n",
       "      <td>6.05</td>\n",
       "      <td>3.75</td>\n",
       "      <td>2872.855713</td>\n",
       "    </tr>\n",
       "    <tr>\n",
       "      <th>2</th>\n",
       "      <td>0.50</td>\n",
       "      <td>61.5</td>\n",
       "      <td>Ideal</td>\n",
       "      <td>E</td>\n",
       "      <td>VS2</td>\n",
       "      <td>55.0</td>\n",
       "      <td>5.11</td>\n",
       "      <td>5.16</td>\n",
       "      <td>3.16</td>\n",
       "      <td>750.674927</td>\n",
       "    </tr>\n",
       "    <tr>\n",
       "      <th>3</th>\n",
       "      <td>0.39</td>\n",
       "      <td>61.6</td>\n",
       "      <td>Premium</td>\n",
       "      <td>J</td>\n",
       "      <td>VS1</td>\n",
       "      <td>59.0</td>\n",
       "      <td>4.67</td>\n",
       "      <td>4.71</td>\n",
       "      <td>2.89</td>\n",
       "      <td>129.634094</td>\n",
       "    </tr>\n",
       "    <tr>\n",
       "      <th>4</th>\n",
       "      <td>0.32</td>\n",
       "      <td>62.1</td>\n",
       "      <td>Premium</td>\n",
       "      <td>G</td>\n",
       "      <td>VS1</td>\n",
       "      <td>56.0</td>\n",
       "      <td>4.43</td>\n",
       "      <td>4.40</td>\n",
       "      <td>2.74</td>\n",
       "      <td>482.053375</td>\n",
       "    </tr>\n",
       "    <tr>\n",
       "      <th>5</th>\n",
       "      <td>0.90</td>\n",
       "      <td>63.3</td>\n",
       "      <td>Good</td>\n",
       "      <td>F</td>\n",
       "      <td>SI2</td>\n",
       "      <td>57.0</td>\n",
       "      <td>6.08</td>\n",
       "      <td>6.14</td>\n",
       "      <td>3.87</td>\n",
       "      <td>3346.202393</td>\n",
       "    </tr>\n",
       "    <tr>\n",
       "      <th>6</th>\n",
       "      <td>0.51</td>\n",
       "      <td>60.9</td>\n",
       "      <td>Ideal</td>\n",
       "      <td>D</td>\n",
       "      <td>VS1</td>\n",
       "      <td>57.0</td>\n",
       "      <td>5.20</td>\n",
       "      <td>5.17</td>\n",
       "      <td>3.16</td>\n",
       "      <td>673.927246</td>\n",
       "    </tr>\n",
       "    <tr>\n",
       "      <th>7</th>\n",
       "      <td>1.12</td>\n",
       "      <td>62.1</td>\n",
       "      <td>Ideal</td>\n",
       "      <td>G</td>\n",
       "      <td>VVS2</td>\n",
       "      <td>54.8</td>\n",
       "      <td>6.64</td>\n",
       "      <td>6.66</td>\n",
       "      <td>4.13</td>\n",
       "      <td>3388.668945</td>\n",
       "    </tr>\n",
       "    <tr>\n",
       "      <th>8</th>\n",
       "      <td>0.40</td>\n",
       "      <td>62.4</td>\n",
       "      <td>Ideal</td>\n",
       "      <td>G</td>\n",
       "      <td>VVS2</td>\n",
       "      <td>56.0</td>\n",
       "      <td>4.72</td>\n",
       "      <td>4.74</td>\n",
       "      <td>2.95</td>\n",
       "      <td>571.209351</td>\n",
       "    </tr>\n",
       "    <tr>\n",
       "      <th>9</th>\n",
       "      <td>0.36</td>\n",
       "      <td>62.7</td>\n",
       "      <td>Premium</td>\n",
       "      <td>I</td>\n",
       "      <td>VS2</td>\n",
       "      <td>59.0</td>\n",
       "      <td>4.54</td>\n",
       "      <td>4.58</td>\n",
       "      <td>2.86</td>\n",
       "      <td>348.067993</td>\n",
       "    </tr>\n",
       "  </tbody>\n",
       "</table>\n",
       "</div>"
      ],
      "text/plain": [
       "   carat  depth      cut color clarity  table     x     y     z  Predictions\n",
       "0   0.71   63.1     Good     I    VVS2   58.0  5.64  5.71  3.58  1087.864380\n",
       "1   0.83   62.1    Ideal     G     VS1   55.0  6.02  6.05  3.75  2872.855713\n",
       "2   0.50   61.5    Ideal     E     VS2   55.0  5.11  5.16  3.16   750.674927\n",
       "3   0.39   61.6  Premium     J     VS1   59.0  4.67  4.71  2.89   129.634094\n",
       "4   0.32   62.1  Premium     G     VS1   56.0  4.43  4.40  2.74   482.053375\n",
       "5   0.90   63.3     Good     F     SI2   57.0  6.08  6.14  3.87  3346.202393\n",
       "6   0.51   60.9    Ideal     D     VS1   57.0  5.20  5.17  3.16   673.927246\n",
       "7   1.12   62.1    Ideal     G    VVS2   54.8  6.64  6.66  4.13  3388.668945\n",
       "8   0.40   62.4    Ideal     G    VVS2   56.0  4.72  4.74  2.95   571.209351\n",
       "9   0.36   62.7  Premium     I     VS2   59.0  4.54  4.58  2.86   348.067993"
      ]
     },
     "execution_count": 131,
     "metadata": {},
     "output_type": "execute_result"
    }
   ],
   "source": [
    "#Visualize the results\n",
    "stolen['Predictions']= stolen_predictions\n",
    "stolen.head(10)"
   ]
  },
  {
   "cell_type": "code",
   "execution_count": 135,
   "metadata": {},
   "outputs": [
    {
     "data": {
      "text/html": [
       "<style  type=\"text/css\" >\n",
       "    #T_87355fc3_7081_11eb_8363_107b44dec08crow0_col9 {\n",
       "            background-color:  yellow;\n",
       "        }    #T_87355fc3_7081_11eb_8363_107b44dec08crow1_col9 {\n",
       "            background-color:  yellow;\n",
       "        }    #T_87355fc3_7081_11eb_8363_107b44dec08crow2_col9 {\n",
       "            background-color:  yellow;\n",
       "        }    #T_87355fc3_7081_11eb_8363_107b44dec08crow3_col9 {\n",
       "            background-color:  yellow;\n",
       "        }    #T_87355fc3_7081_11eb_8363_107b44dec08crow4_col9 {\n",
       "            background-color:  yellow;\n",
       "        }    #T_87355fc3_7081_11eb_8363_107b44dec08crow5_col9 {\n",
       "            background-color:  yellow;\n",
       "        }    #T_87355fc3_7081_11eb_8363_107b44dec08crow6_col9 {\n",
       "            background-color:  yellow;\n",
       "        }    #T_87355fc3_7081_11eb_8363_107b44dec08crow7_col9 {\n",
       "            background-color:  yellow;\n",
       "        }    #T_87355fc3_7081_11eb_8363_107b44dec08crow8_col9 {\n",
       "            background-color:  yellow;\n",
       "        }    #T_87355fc3_7081_11eb_8363_107b44dec08crow9_col9 {\n",
       "            background-color:  yellow;\n",
       "        }</style><table id=\"T_87355fc3_7081_11eb_8363_107b44dec08c\" ><thead>    <tr>        <th class=\"blank level0\" ></th>        <th class=\"col_heading level0 col0\" >carat</th>        <th class=\"col_heading level0 col1\" >depth</th>        <th class=\"col_heading level0 col2\" >cut</th>        <th class=\"col_heading level0 col3\" >color</th>        <th class=\"col_heading level0 col4\" >clarity</th>        <th class=\"col_heading level0 col5\" >table</th>        <th class=\"col_heading level0 col6\" >x</th>        <th class=\"col_heading level0 col7\" >y</th>        <th class=\"col_heading level0 col8\" >z</th>        <th class=\"col_heading level0 col9\" >Predictions</th>    </tr></thead><tbody>\n",
       "                <tr>\n",
       "                        <th id=\"T_87355fc3_7081_11eb_8363_107b44dec08clevel0_row0\" class=\"row_heading level0 row0\" >0</th>\n",
       "                        <td id=\"T_87355fc3_7081_11eb_8363_107b44dec08crow0_col0\" class=\"data row0 col0\" >0.710000</td>\n",
       "                        <td id=\"T_87355fc3_7081_11eb_8363_107b44dec08crow0_col1\" class=\"data row0 col1\" >63.100000</td>\n",
       "                        <td id=\"T_87355fc3_7081_11eb_8363_107b44dec08crow0_col2\" class=\"data row0 col2\" >Good</td>\n",
       "                        <td id=\"T_87355fc3_7081_11eb_8363_107b44dec08crow0_col3\" class=\"data row0 col3\" >I</td>\n",
       "                        <td id=\"T_87355fc3_7081_11eb_8363_107b44dec08crow0_col4\" class=\"data row0 col4\" >VVS2</td>\n",
       "                        <td id=\"T_87355fc3_7081_11eb_8363_107b44dec08crow0_col5\" class=\"data row0 col5\" >58.000000</td>\n",
       "                        <td id=\"T_87355fc3_7081_11eb_8363_107b44dec08crow0_col6\" class=\"data row0 col6\" >5.640000</td>\n",
       "                        <td id=\"T_87355fc3_7081_11eb_8363_107b44dec08crow0_col7\" class=\"data row0 col7\" >5.710000</td>\n",
       "                        <td id=\"T_87355fc3_7081_11eb_8363_107b44dec08crow0_col8\" class=\"data row0 col8\" >3.580000</td>\n",
       "                        <td id=\"T_87355fc3_7081_11eb_8363_107b44dec08crow0_col9\" class=\"data row0 col9\" >1087.864380</td>\n",
       "            </tr>\n",
       "            <tr>\n",
       "                        <th id=\"T_87355fc3_7081_11eb_8363_107b44dec08clevel0_row1\" class=\"row_heading level0 row1\" >1</th>\n",
       "                        <td id=\"T_87355fc3_7081_11eb_8363_107b44dec08crow1_col0\" class=\"data row1 col0\" >0.830000</td>\n",
       "                        <td id=\"T_87355fc3_7081_11eb_8363_107b44dec08crow1_col1\" class=\"data row1 col1\" >62.100000</td>\n",
       "                        <td id=\"T_87355fc3_7081_11eb_8363_107b44dec08crow1_col2\" class=\"data row1 col2\" >Ideal</td>\n",
       "                        <td id=\"T_87355fc3_7081_11eb_8363_107b44dec08crow1_col3\" class=\"data row1 col3\" >G</td>\n",
       "                        <td id=\"T_87355fc3_7081_11eb_8363_107b44dec08crow1_col4\" class=\"data row1 col4\" >VS1</td>\n",
       "                        <td id=\"T_87355fc3_7081_11eb_8363_107b44dec08crow1_col5\" class=\"data row1 col5\" >55.000000</td>\n",
       "                        <td id=\"T_87355fc3_7081_11eb_8363_107b44dec08crow1_col6\" class=\"data row1 col6\" >6.020000</td>\n",
       "                        <td id=\"T_87355fc3_7081_11eb_8363_107b44dec08crow1_col7\" class=\"data row1 col7\" >6.050000</td>\n",
       "                        <td id=\"T_87355fc3_7081_11eb_8363_107b44dec08crow1_col8\" class=\"data row1 col8\" >3.750000</td>\n",
       "                        <td id=\"T_87355fc3_7081_11eb_8363_107b44dec08crow1_col9\" class=\"data row1 col9\" >2872.855713</td>\n",
       "            </tr>\n",
       "            <tr>\n",
       "                        <th id=\"T_87355fc3_7081_11eb_8363_107b44dec08clevel0_row2\" class=\"row_heading level0 row2\" >2</th>\n",
       "                        <td id=\"T_87355fc3_7081_11eb_8363_107b44dec08crow2_col0\" class=\"data row2 col0\" >0.500000</td>\n",
       "                        <td id=\"T_87355fc3_7081_11eb_8363_107b44dec08crow2_col1\" class=\"data row2 col1\" >61.500000</td>\n",
       "                        <td id=\"T_87355fc3_7081_11eb_8363_107b44dec08crow2_col2\" class=\"data row2 col2\" >Ideal</td>\n",
       "                        <td id=\"T_87355fc3_7081_11eb_8363_107b44dec08crow2_col3\" class=\"data row2 col3\" >E</td>\n",
       "                        <td id=\"T_87355fc3_7081_11eb_8363_107b44dec08crow2_col4\" class=\"data row2 col4\" >VS2</td>\n",
       "                        <td id=\"T_87355fc3_7081_11eb_8363_107b44dec08crow2_col5\" class=\"data row2 col5\" >55.000000</td>\n",
       "                        <td id=\"T_87355fc3_7081_11eb_8363_107b44dec08crow2_col6\" class=\"data row2 col6\" >5.110000</td>\n",
       "                        <td id=\"T_87355fc3_7081_11eb_8363_107b44dec08crow2_col7\" class=\"data row2 col7\" >5.160000</td>\n",
       "                        <td id=\"T_87355fc3_7081_11eb_8363_107b44dec08crow2_col8\" class=\"data row2 col8\" >3.160000</td>\n",
       "                        <td id=\"T_87355fc3_7081_11eb_8363_107b44dec08crow2_col9\" class=\"data row2 col9\" >750.674927</td>\n",
       "            </tr>\n",
       "            <tr>\n",
       "                        <th id=\"T_87355fc3_7081_11eb_8363_107b44dec08clevel0_row3\" class=\"row_heading level0 row3\" >3</th>\n",
       "                        <td id=\"T_87355fc3_7081_11eb_8363_107b44dec08crow3_col0\" class=\"data row3 col0\" >0.390000</td>\n",
       "                        <td id=\"T_87355fc3_7081_11eb_8363_107b44dec08crow3_col1\" class=\"data row3 col1\" >61.600000</td>\n",
       "                        <td id=\"T_87355fc3_7081_11eb_8363_107b44dec08crow3_col2\" class=\"data row3 col2\" >Premium</td>\n",
       "                        <td id=\"T_87355fc3_7081_11eb_8363_107b44dec08crow3_col3\" class=\"data row3 col3\" >J</td>\n",
       "                        <td id=\"T_87355fc3_7081_11eb_8363_107b44dec08crow3_col4\" class=\"data row3 col4\" >VS1</td>\n",
       "                        <td id=\"T_87355fc3_7081_11eb_8363_107b44dec08crow3_col5\" class=\"data row3 col5\" >59.000000</td>\n",
       "                        <td id=\"T_87355fc3_7081_11eb_8363_107b44dec08crow3_col6\" class=\"data row3 col6\" >4.670000</td>\n",
       "                        <td id=\"T_87355fc3_7081_11eb_8363_107b44dec08crow3_col7\" class=\"data row3 col7\" >4.710000</td>\n",
       "                        <td id=\"T_87355fc3_7081_11eb_8363_107b44dec08crow3_col8\" class=\"data row3 col8\" >2.890000</td>\n",
       "                        <td id=\"T_87355fc3_7081_11eb_8363_107b44dec08crow3_col9\" class=\"data row3 col9\" >129.634094</td>\n",
       "            </tr>\n",
       "            <tr>\n",
       "                        <th id=\"T_87355fc3_7081_11eb_8363_107b44dec08clevel0_row4\" class=\"row_heading level0 row4\" >4</th>\n",
       "                        <td id=\"T_87355fc3_7081_11eb_8363_107b44dec08crow4_col0\" class=\"data row4 col0\" >0.320000</td>\n",
       "                        <td id=\"T_87355fc3_7081_11eb_8363_107b44dec08crow4_col1\" class=\"data row4 col1\" >62.100000</td>\n",
       "                        <td id=\"T_87355fc3_7081_11eb_8363_107b44dec08crow4_col2\" class=\"data row4 col2\" >Premium</td>\n",
       "                        <td id=\"T_87355fc3_7081_11eb_8363_107b44dec08crow4_col3\" class=\"data row4 col3\" >G</td>\n",
       "                        <td id=\"T_87355fc3_7081_11eb_8363_107b44dec08crow4_col4\" class=\"data row4 col4\" >VS1</td>\n",
       "                        <td id=\"T_87355fc3_7081_11eb_8363_107b44dec08crow4_col5\" class=\"data row4 col5\" >56.000000</td>\n",
       "                        <td id=\"T_87355fc3_7081_11eb_8363_107b44dec08crow4_col6\" class=\"data row4 col6\" >4.430000</td>\n",
       "                        <td id=\"T_87355fc3_7081_11eb_8363_107b44dec08crow4_col7\" class=\"data row4 col7\" >4.400000</td>\n",
       "                        <td id=\"T_87355fc3_7081_11eb_8363_107b44dec08crow4_col8\" class=\"data row4 col8\" >2.740000</td>\n",
       "                        <td id=\"T_87355fc3_7081_11eb_8363_107b44dec08crow4_col9\" class=\"data row4 col9\" >482.053375</td>\n",
       "            </tr>\n",
       "            <tr>\n",
       "                        <th id=\"T_87355fc3_7081_11eb_8363_107b44dec08clevel0_row5\" class=\"row_heading level0 row5\" >5</th>\n",
       "                        <td id=\"T_87355fc3_7081_11eb_8363_107b44dec08crow5_col0\" class=\"data row5 col0\" >0.900000</td>\n",
       "                        <td id=\"T_87355fc3_7081_11eb_8363_107b44dec08crow5_col1\" class=\"data row5 col1\" >63.300000</td>\n",
       "                        <td id=\"T_87355fc3_7081_11eb_8363_107b44dec08crow5_col2\" class=\"data row5 col2\" >Good</td>\n",
       "                        <td id=\"T_87355fc3_7081_11eb_8363_107b44dec08crow5_col3\" class=\"data row5 col3\" >F</td>\n",
       "                        <td id=\"T_87355fc3_7081_11eb_8363_107b44dec08crow5_col4\" class=\"data row5 col4\" >SI2</td>\n",
       "                        <td id=\"T_87355fc3_7081_11eb_8363_107b44dec08crow5_col5\" class=\"data row5 col5\" >57.000000</td>\n",
       "                        <td id=\"T_87355fc3_7081_11eb_8363_107b44dec08crow5_col6\" class=\"data row5 col6\" >6.080000</td>\n",
       "                        <td id=\"T_87355fc3_7081_11eb_8363_107b44dec08crow5_col7\" class=\"data row5 col7\" >6.140000</td>\n",
       "                        <td id=\"T_87355fc3_7081_11eb_8363_107b44dec08crow5_col8\" class=\"data row5 col8\" >3.870000</td>\n",
       "                        <td id=\"T_87355fc3_7081_11eb_8363_107b44dec08crow5_col9\" class=\"data row5 col9\" >3346.202393</td>\n",
       "            </tr>\n",
       "            <tr>\n",
       "                        <th id=\"T_87355fc3_7081_11eb_8363_107b44dec08clevel0_row6\" class=\"row_heading level0 row6\" >6</th>\n",
       "                        <td id=\"T_87355fc3_7081_11eb_8363_107b44dec08crow6_col0\" class=\"data row6 col0\" >0.510000</td>\n",
       "                        <td id=\"T_87355fc3_7081_11eb_8363_107b44dec08crow6_col1\" class=\"data row6 col1\" >60.900000</td>\n",
       "                        <td id=\"T_87355fc3_7081_11eb_8363_107b44dec08crow6_col2\" class=\"data row6 col2\" >Ideal</td>\n",
       "                        <td id=\"T_87355fc3_7081_11eb_8363_107b44dec08crow6_col3\" class=\"data row6 col3\" >D</td>\n",
       "                        <td id=\"T_87355fc3_7081_11eb_8363_107b44dec08crow6_col4\" class=\"data row6 col4\" >VS1</td>\n",
       "                        <td id=\"T_87355fc3_7081_11eb_8363_107b44dec08crow6_col5\" class=\"data row6 col5\" >57.000000</td>\n",
       "                        <td id=\"T_87355fc3_7081_11eb_8363_107b44dec08crow6_col6\" class=\"data row6 col6\" >5.200000</td>\n",
       "                        <td id=\"T_87355fc3_7081_11eb_8363_107b44dec08crow6_col7\" class=\"data row6 col7\" >5.170000</td>\n",
       "                        <td id=\"T_87355fc3_7081_11eb_8363_107b44dec08crow6_col8\" class=\"data row6 col8\" >3.160000</td>\n",
       "                        <td id=\"T_87355fc3_7081_11eb_8363_107b44dec08crow6_col9\" class=\"data row6 col9\" >673.927246</td>\n",
       "            </tr>\n",
       "            <tr>\n",
       "                        <th id=\"T_87355fc3_7081_11eb_8363_107b44dec08clevel0_row7\" class=\"row_heading level0 row7\" >7</th>\n",
       "                        <td id=\"T_87355fc3_7081_11eb_8363_107b44dec08crow7_col0\" class=\"data row7 col0\" >1.120000</td>\n",
       "                        <td id=\"T_87355fc3_7081_11eb_8363_107b44dec08crow7_col1\" class=\"data row7 col1\" >62.100000</td>\n",
       "                        <td id=\"T_87355fc3_7081_11eb_8363_107b44dec08crow7_col2\" class=\"data row7 col2\" >Ideal</td>\n",
       "                        <td id=\"T_87355fc3_7081_11eb_8363_107b44dec08crow7_col3\" class=\"data row7 col3\" >G</td>\n",
       "                        <td id=\"T_87355fc3_7081_11eb_8363_107b44dec08crow7_col4\" class=\"data row7 col4\" >VVS2</td>\n",
       "                        <td id=\"T_87355fc3_7081_11eb_8363_107b44dec08crow7_col5\" class=\"data row7 col5\" >54.800000</td>\n",
       "                        <td id=\"T_87355fc3_7081_11eb_8363_107b44dec08crow7_col6\" class=\"data row7 col6\" >6.640000</td>\n",
       "                        <td id=\"T_87355fc3_7081_11eb_8363_107b44dec08crow7_col7\" class=\"data row7 col7\" >6.660000</td>\n",
       "                        <td id=\"T_87355fc3_7081_11eb_8363_107b44dec08crow7_col8\" class=\"data row7 col8\" >4.130000</td>\n",
       "                        <td id=\"T_87355fc3_7081_11eb_8363_107b44dec08crow7_col9\" class=\"data row7 col9\" >3388.668945</td>\n",
       "            </tr>\n",
       "            <tr>\n",
       "                        <th id=\"T_87355fc3_7081_11eb_8363_107b44dec08clevel0_row8\" class=\"row_heading level0 row8\" >8</th>\n",
       "                        <td id=\"T_87355fc3_7081_11eb_8363_107b44dec08crow8_col0\" class=\"data row8 col0\" >0.400000</td>\n",
       "                        <td id=\"T_87355fc3_7081_11eb_8363_107b44dec08crow8_col1\" class=\"data row8 col1\" >62.400000</td>\n",
       "                        <td id=\"T_87355fc3_7081_11eb_8363_107b44dec08crow8_col2\" class=\"data row8 col2\" >Ideal</td>\n",
       "                        <td id=\"T_87355fc3_7081_11eb_8363_107b44dec08crow8_col3\" class=\"data row8 col3\" >G</td>\n",
       "                        <td id=\"T_87355fc3_7081_11eb_8363_107b44dec08crow8_col4\" class=\"data row8 col4\" >VVS2</td>\n",
       "                        <td id=\"T_87355fc3_7081_11eb_8363_107b44dec08crow8_col5\" class=\"data row8 col5\" >56.000000</td>\n",
       "                        <td id=\"T_87355fc3_7081_11eb_8363_107b44dec08crow8_col6\" class=\"data row8 col6\" >4.720000</td>\n",
       "                        <td id=\"T_87355fc3_7081_11eb_8363_107b44dec08crow8_col7\" class=\"data row8 col7\" >4.740000</td>\n",
       "                        <td id=\"T_87355fc3_7081_11eb_8363_107b44dec08crow8_col8\" class=\"data row8 col8\" >2.950000</td>\n",
       "                        <td id=\"T_87355fc3_7081_11eb_8363_107b44dec08crow8_col9\" class=\"data row8 col9\" >571.209351</td>\n",
       "            </tr>\n",
       "            <tr>\n",
       "                        <th id=\"T_87355fc3_7081_11eb_8363_107b44dec08clevel0_row9\" class=\"row_heading level0 row9\" >9</th>\n",
       "                        <td id=\"T_87355fc3_7081_11eb_8363_107b44dec08crow9_col0\" class=\"data row9 col0\" >0.360000</td>\n",
       "                        <td id=\"T_87355fc3_7081_11eb_8363_107b44dec08crow9_col1\" class=\"data row9 col1\" >62.700000</td>\n",
       "                        <td id=\"T_87355fc3_7081_11eb_8363_107b44dec08crow9_col2\" class=\"data row9 col2\" >Premium</td>\n",
       "                        <td id=\"T_87355fc3_7081_11eb_8363_107b44dec08crow9_col3\" class=\"data row9 col3\" >I</td>\n",
       "                        <td id=\"T_87355fc3_7081_11eb_8363_107b44dec08crow9_col4\" class=\"data row9 col4\" >VS2</td>\n",
       "                        <td id=\"T_87355fc3_7081_11eb_8363_107b44dec08crow9_col5\" class=\"data row9 col5\" >59.000000</td>\n",
       "                        <td id=\"T_87355fc3_7081_11eb_8363_107b44dec08crow9_col6\" class=\"data row9 col6\" >4.540000</td>\n",
       "                        <td id=\"T_87355fc3_7081_11eb_8363_107b44dec08crow9_col7\" class=\"data row9 col7\" >4.580000</td>\n",
       "                        <td id=\"T_87355fc3_7081_11eb_8363_107b44dec08crow9_col8\" class=\"data row9 col8\" >2.860000</td>\n",
       "                        <td id=\"T_87355fc3_7081_11eb_8363_107b44dec08crow9_col9\" class=\"data row9 col9\" >348.067993</td>\n",
       "            </tr>\n",
       "    </tbody></table>"
      ],
      "text/plain": [
       "<pandas.io.formats.style.Styler at 0x2a0c8945f40>"
      ]
     },
     "execution_count": 135,
     "metadata": {},
     "output_type": "execute_result"
    }
   ],
   "source": [
    "#Highlight information\n",
    "coldict = {'Predictions':'yellow'}\n",
    "def highlight_cols(s, coldict):\n",
    "    if s.name in coldict.keys():\n",
    "        return ['background-color: {}'.format(coldict[s.name])] * len(s)\n",
    "    return [''] * len(s)\n",
    "\n",
    "stolen.style.apply(highlight_cols, coldict=coldict)"
   ]
  },
  {
   "cell_type": "code",
   "execution_count": null,
   "metadata": {},
   "outputs": [],
   "source": []
  },
  {
   "cell_type": "code",
   "execution_count": null,
   "metadata": {},
   "outputs": [],
   "source": []
  }
 ],
 "metadata": {
  "kernelspec": {
   "display_name": "Python 3",
   "language": "python",
   "name": "python3"
  },
  "language_info": {
   "codemirror_mode": {
    "name": "ipython",
    "version": 3
   },
   "file_extension": ".py",
   "mimetype": "text/x-python",
   "name": "python",
   "nbconvert_exporter": "python",
   "pygments_lexer": "ipython3",
   "version": "3.8.3"
  }
 },
 "nbformat": 4,
 "nbformat_minor": 4
}
