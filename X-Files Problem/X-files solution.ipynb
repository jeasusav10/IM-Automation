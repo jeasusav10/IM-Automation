{
 "cells": [
  {
   "cell_type": "markdown",
   "metadata": {},
   "source": [
    "# The X-files problem"
   ]
  },
  {
   "cell_type": "markdown",
   "metadata": {},
   "source": [
    "This problem is for used for practicing the abilities in data loading, cleaning and descriptive analysis. "
   ]
  },
  {
   "cell_type": "markdown",
   "metadata": {},
   "source": [
    "## Context\n",
    "\n",
    "You’re at the airport, on your way to a Data Science conference abroad. A strange, but somewhat familiar man sits right next to you. He’s talking on the phone and wearing a tin hat. He briefly looks at you and turns away lowering his voice suspiciously. Although you know it isn’t right, you try to listen in on the conversation he’s having---let’s call it your scientific interest.\n",
    "\n",
    ">  <font color= #2B65EC> **Strange Man**: ... not a real one, no. Do you know how rare U.F.O. sightings are? <br> </font>\n",
    "<font color= green> **You**: Actually, it’s really simple, if you have the data. </font>\n",
    "\n",
    "The old man looks at you, first alarmed and then with curiosity.\n",
    "\n",
    "> <font color= #2B65EC> **Strange Man**: Explain. <br> </font>\n",
    "<font color= green> **You**: Well, with enough data you can make estimations about the probability of an event, however rare it may occur. <br> </font>\n",
    "<font color= #2B65EC> **Strange Man**: Can you do it? <br> </font>\n",
    "<font color= green> **You**: Of course, I’m a data scientist. I just need data.” <br> </font>\n",
    "<font color= #2B65EC> **Strange Man**: In that case... \n",
    "    \n",
    "As the man spoke, he began rummaging through his travel bag until he pulled out a parcel covered in tinfoil. It was a shoebox filled with floppy disks\n",
    "\n",
    "> <font color= #2B65EC> **Strange Man**: ...here’s data my company, Infinito, has collected about U.F.O. sightings. People from around the world go to my company’s website and fill-out a form about their U.F.O. experience. I would like to hire you to tell me where I should go if I want to see an U.F.O. or interview people that claim sightings. <br> </font>\n",
    "\n",
    "As you take the box, still wondering where you’ll get a computer capable of reading the floppy disks, he gets up and starts to leave.\n",
    "\n",
    "> <font color= #2B65EC> **Strange Man**: Ohhhh!  I almost forgot. Make sure you present your findings in a way my shareholders will understand. The truth may be out there... and no one is doing anything. </font>\n",
    "    "
   ]
  },
  {
   "cell_type": "markdown",
   "metadata": {},
   "source": [
    "## Data\n",
    "\n",
    "The file that contains the information, can be download from: [UFO-sightings Dataset](https://github.com/jeasusav10/IM-Automation/blob/main/X-files/UFO_sightings.csv)\n"
   ]
  },
  {
   "cell_type": "markdown",
   "metadata": {},
   "source": [
    "## Code\n",
    "\n",
    "In general terms, the solution should include the **ranking of the places where UFOs have apperared with more frequency** .\n",
    "\n",
    "The code will use **Pandas** for data manipulation and anlaysis and **Matplotlib** for data visualization."
   ]
  },
  {
   "cell_type": "code",
   "execution_count": null,
   "metadata": {},
   "outputs": [],
   "source": [
    "#import libraries\n",
    "import pandas as pd\n",
    "\n"
   ]
  },
  {
   "cell_type": "code",
   "execution_count": null,
   "metadata": {},
   "outputs": [],
   "source": []
  }
 ],
 "metadata": {
  "kernelspec": {
   "display_name": "Python 3",
   "language": "python",
   "name": "python3"
  },
  "language_info": {
   "codemirror_mode": {
    "name": "ipython",
    "version": 3
   },
   "file_extension": ".py",
   "mimetype": "text/x-python",
   "name": "python",
   "nbconvert_exporter": "python",
   "pygments_lexer": "ipython3",
   "version": "3.8.3"
  }
 },
 "nbformat": 4,
 "nbformat_minor": 4
}
